{
 "cells": [
  {
   "cell_type": "markdown",
   "id": "ac9356e5",
   "metadata": {},
   "source": [
    "# Assignment 05 Random search and hyperopt"
   ]
  },
  {
   "cell_type": "code",
   "execution_count": 1,
   "id": "f77772b0",
   "metadata": {},
   "outputs": [],
   "source": [
    "import numpy as np\n",
    "import pandas as pd\n",
    "import matplotlib.pyplot as plt\n",
    "import seaborn as sns\n",
    "import warnings\n",
    "warnings.filterwarnings('ignore')"
   ]
  },
  {
   "cell_type": "markdown",
   "id": "80f340a2",
   "metadata": {},
   "source": [
    "## 1. Load titanic.csv file."
   ]
  },
  {
   "cell_type": "code",
   "execution_count": 2,
   "id": "99b3e941",
   "metadata": {},
   "outputs": [],
   "source": [
    "data=pd.read_csv(r\"C:\\Users\\USER\\Downloads\\titanic (2).csv\")"
   ]
  },
  {
   "cell_type": "code",
   "execution_count": 3,
   "id": "0a986c4e",
   "metadata": {},
   "outputs": [
    {
     "data": {
      "text/html": [
       "<div>\n",
       "<style scoped>\n",
       "    .dataframe tbody tr th:only-of-type {\n",
       "        vertical-align: middle;\n",
       "    }\n",
       "\n",
       "    .dataframe tbody tr th {\n",
       "        vertical-align: top;\n",
       "    }\n",
       "\n",
       "    .dataframe thead th {\n",
       "        text-align: right;\n",
       "    }\n",
       "</style>\n",
       "<table border=\"1\" class=\"dataframe\">\n",
       "  <thead>\n",
       "    <tr style=\"text-align: right;\">\n",
       "      <th></th>\n",
       "      <th>PassengerId</th>\n",
       "      <th>Survived</th>\n",
       "      <th>Pclass</th>\n",
       "      <th>Name</th>\n",
       "      <th>Sex</th>\n",
       "      <th>Age</th>\n",
       "      <th>SibSp</th>\n",
       "      <th>Parch</th>\n",
       "      <th>Ticket</th>\n",
       "      <th>Fare</th>\n",
       "      <th>Cabin</th>\n",
       "      <th>Embarked</th>\n",
       "    </tr>\n",
       "  </thead>\n",
       "  <tbody>\n",
       "    <tr>\n",
       "      <th>0</th>\n",
       "      <td>1</td>\n",
       "      <td>0</td>\n",
       "      <td>3</td>\n",
       "      <td>Braund, Mr. Owen Harris</td>\n",
       "      <td>male</td>\n",
       "      <td>22.0</td>\n",
       "      <td>1</td>\n",
       "      <td>0</td>\n",
       "      <td>A/5 21171</td>\n",
       "      <td>7.2500</td>\n",
       "      <td>NaN</td>\n",
       "      <td>S</td>\n",
       "    </tr>\n",
       "    <tr>\n",
       "      <th>1</th>\n",
       "      <td>2</td>\n",
       "      <td>1</td>\n",
       "      <td>1</td>\n",
       "      <td>Cumings, Mrs. John Bradley (Florence Briggs Th...</td>\n",
       "      <td>female</td>\n",
       "      <td>38.0</td>\n",
       "      <td>1</td>\n",
       "      <td>0</td>\n",
       "      <td>PC 17599</td>\n",
       "      <td>71.2833</td>\n",
       "      <td>C85</td>\n",
       "      <td>C</td>\n",
       "    </tr>\n",
       "    <tr>\n",
       "      <th>2</th>\n",
       "      <td>3</td>\n",
       "      <td>1</td>\n",
       "      <td>3</td>\n",
       "      <td>Heikkinen, Miss. Laina</td>\n",
       "      <td>female</td>\n",
       "      <td>26.0</td>\n",
       "      <td>0</td>\n",
       "      <td>0</td>\n",
       "      <td>STON/O2. 3101282</td>\n",
       "      <td>7.9250</td>\n",
       "      <td>NaN</td>\n",
       "      <td>S</td>\n",
       "    </tr>\n",
       "    <tr>\n",
       "      <th>3</th>\n",
       "      <td>4</td>\n",
       "      <td>1</td>\n",
       "      <td>1</td>\n",
       "      <td>Futrelle, Mrs. Jacques Heath (Lily May Peel)</td>\n",
       "      <td>female</td>\n",
       "      <td>35.0</td>\n",
       "      <td>1</td>\n",
       "      <td>0</td>\n",
       "      <td>113803</td>\n",
       "      <td>53.1000</td>\n",
       "      <td>C123</td>\n",
       "      <td>S</td>\n",
       "    </tr>\n",
       "    <tr>\n",
       "      <th>4</th>\n",
       "      <td>5</td>\n",
       "      <td>0</td>\n",
       "      <td>3</td>\n",
       "      <td>Allen, Mr. William Henry</td>\n",
       "      <td>male</td>\n",
       "      <td>35.0</td>\n",
       "      <td>0</td>\n",
       "      <td>0</td>\n",
       "      <td>373450</td>\n",
       "      <td>8.0500</td>\n",
       "      <td>NaN</td>\n",
       "      <td>S</td>\n",
       "    </tr>\n",
       "  </tbody>\n",
       "</table>\n",
       "</div>"
      ],
      "text/plain": [
       "   PassengerId  Survived  Pclass  \\\n",
       "0            1         0       3   \n",
       "1            2         1       1   \n",
       "2            3         1       3   \n",
       "3            4         1       1   \n",
       "4            5         0       3   \n",
       "\n",
       "                                                Name     Sex   Age  SibSp  \\\n",
       "0                            Braund, Mr. Owen Harris    male  22.0      1   \n",
       "1  Cumings, Mrs. John Bradley (Florence Briggs Th...  female  38.0      1   \n",
       "2                             Heikkinen, Miss. Laina  female  26.0      0   \n",
       "3       Futrelle, Mrs. Jacques Heath (Lily May Peel)  female  35.0      1   \n",
       "4                           Allen, Mr. William Henry    male  35.0      0   \n",
       "\n",
       "   Parch            Ticket     Fare Cabin Embarked  \n",
       "0      0         A/5 21171   7.2500   NaN        S  \n",
       "1      0          PC 17599  71.2833   C85        C  \n",
       "2      0  STON/O2. 3101282   7.9250   NaN        S  \n",
       "3      0            113803  53.1000  C123        S  \n",
       "4      0            373450   8.0500   NaN        S  "
      ]
     },
     "execution_count": 3,
     "metadata": {},
     "output_type": "execute_result"
    }
   ],
   "source": [
    "data.head()"
   ]
  },
  {
   "cell_type": "markdown",
   "id": "40f0032c",
   "metadata": {},
   "source": [
    "## 2. Select ‘Pclass’,’SibSp’,’Parch’, ‘Fare’; columns as data. Select ‘Survived’ column as label."
   ]
  },
  {
   "cell_type": "code",
   "execution_count": 4,
   "id": "01694bad",
   "metadata": {},
   "outputs": [],
   "source": [
    "X=data[['Pclass','SibSp','Parch','Fare']]\n",
    "y=data['Survived']"
   ]
  },
  {
   "cell_type": "markdown",
   "id": "02102b39",
   "metadata": {},
   "source": [
    "## 3. Apply SVM to classify the data."
   ]
  },
  {
   "cell_type": "code",
   "execution_count": 5,
   "id": "cb27dcc2",
   "metadata": {},
   "outputs": [],
   "source": [
    "from sklearn.model_selection import train_test_split\n",
    "from sklearn.svm import SVC\n",
    "from sklearn.metrics import accuracy_score"
   ]
  },
  {
   "cell_type": "code",
   "execution_count": 6,
   "id": "d8c0506a",
   "metadata": {},
   "outputs": [],
   "source": [
    "X_train,X_test,y_train,y_test=train_test_split(X,y,test_size=0.2,random_state=42)"
   ]
  },
  {
   "cell_type": "code",
   "execution_count": 7,
   "id": "9c4af899",
   "metadata": {},
   "outputs": [
    {
     "name": "stdout",
     "output_type": "stream",
     "text": [
      "Accuracy of SVM model :  65.36\n"
     ]
    }
   ],
   "source": [
    "model=SVC()\n",
    "model.fit(X_train,y_train)\n",
    "y_pred=model.predict(X_test)\n",
    "print(\"Accuracy of SVM model : \",round(100*accuracy_score(y_test,y_pred),2))"
   ]
  },
  {
   "cell_type": "markdown",
   "id": "ed7c0302",
   "metadata": {},
   "source": [
    "## 4. Use 5-Fold Cross Validation to generalise the model accuracy."
   ]
  },
  {
   "cell_type": "code",
   "execution_count": 8,
   "id": "c6289717",
   "metadata": {},
   "outputs": [
    {
     "name": "stdout",
     "output_type": "stream",
     "text": [
      "Cross Validation Scores are [0.62011173 0.66853933 0.66853933 0.66292135 0.70786517]\n",
      "Average Cross Validation score :0.6655953800765803\n"
     ]
    }
   ],
   "source": [
    "from sklearn.model_selection import cross_val_score,KFold\n",
    "model = SVC()\n",
    "kf=KFold(n_splits=5)\n",
    "score=cross_val_score(model,X,y,cv=kf)\n",
    "print(\"Cross Validation Scores are {}\".format(score))\n",
    "print(\"Average Cross Validation score :{}\".format(score.mean()))"
   ]
  },
  {
   "cell_type": "markdown",
   "id": "b104d611",
   "metadata": {},
   "source": [
    "## 5. Use random search and hyperopt packages to identify the best possible SVM model from the following search space.\n",
    "\n",
    "'C': [0.1, 1, 10, 100, 1000]\n",
    "\n",
    "'gamma': [1, 0.1, 0.01, 0.001, 0.0001]\n",
    "\n",
    "'kernel': ['rbf']"
   ]
  },
  {
   "cell_type": "markdown",
   "id": "2ee59edb",
   "metadata": {},
   "source": [
    "### Random Search"
   ]
  },
  {
   "cell_type": "code",
   "execution_count": 9,
   "id": "94fb7b3c",
   "metadata": {},
   "outputs": [],
   "source": [
    "parameters={'C': [0.1, 1, 10, 100, 1000],'gamma': [1, 0.1, 0.01, 0.001, 0.0001],'kernel': ['rbf']}"
   ]
  },
  {
   "cell_type": "code",
   "execution_count": 10,
   "id": "327c7bfa",
   "metadata": {},
   "outputs": [
    {
     "name": "stdout",
     "output_type": "stream",
     "text": [
      "Fitting 5 folds for each of 25 candidates, totalling 125 fits\n",
      "Best Score:  69.94385895794348\n",
      "Best Params:  {'kernel': 'rbf', 'gamma': 0.1, 'C': 100}\n"
     ]
    }
   ],
   "source": [
    "from sklearn.model_selection import RandomizedSearchCV\n",
    "random_search=RandomizedSearchCV(estimator = SVC(), param_distributions=parameters,verbose=1, n_jobs=-1,\n",
    "                            n_iter=50)\n",
    "random_result = random_search.fit(X_train, y_train)\n",
    "print('Best Score: ', random_result.best_score_*100)\n",
    "print('Best Params: ', random_result.best_params_)"
   ]
  },
  {
   "cell_type": "markdown",
   "id": "7a107d5d",
   "metadata": {},
   "source": [
    "### Hyperopt"
   ]
  },
  {
   "cell_type": "code",
   "execution_count": 11,
   "id": "bd87adc6",
   "metadata": {},
   "outputs": [],
   "source": [
    "from hyperopt import hp, fmin, tpe, rand, STATUS_OK, Trials\n",
    "\n",
    "space = {\n",
    "      'C': hp.choice('C',[0.1, 1, 10, 100, 1000]),\n",
    "      'kernel': hp.choice('kernel',['rbf']),\n",
    "      'gamma': hp.choice('gamma',[1, 0.1, 0.01, 0.001, 0.0001])\n",
    "      }"
   ]
  },
  {
   "cell_type": "code",
   "execution_count": 12,
   "id": "2d389cf4",
   "metadata": {},
   "outputs": [],
   "source": [
    "# define objective function\n",
    "\n",
    "def hyperparameter_tuning(params):\n",
    "    clf = SVC()\n",
    "    acc = cross_val_score(clf, X, y,scoring=\"accuracy\").mean()\n",
    "    return {\"loss\": -acc, \"status\": STATUS_OK}"
   ]
  },
  {
   "cell_type": "code",
   "execution_count": 13,
   "id": "2cc2b9f4",
   "metadata": {},
   "outputs": [
    {
     "name": "stdout",
     "output_type": "stream",
     "text": [
      "100%|███████████████████████████████████████████████| 50/50 [00:33<00:00,  1.51trial/s, best loss: -0.6678865105768628]\n",
      "Best: {'C': 4, 'gamma': 0, 'kernel': 0}\n"
     ]
    }
   ],
   "source": [
    "# Initialize trials object\n",
    "trials = Trials()\n",
    "\n",
    "best = fmin(\n",
    "    fn=hyperparameter_tuning,\n",
    "    space = space, \n",
    "    algo=tpe.suggest, \n",
    "    max_evals=50, \n",
    "    trials=trials\n",
    ")\n",
    "\n",
    "print(\"Best: {}\".format(best))"
   ]
  },
  {
   "cell_type": "code",
   "execution_count": 14,
   "id": "013c5c57",
   "metadata": {},
   "outputs": [
    {
     "data": {
      "text/plain": [
       "[{'loss': -0.6678865105768628, 'status': 'ok'},\n",
       " {'loss': -0.6678865105768628, 'status': 'ok'},\n",
       " {'loss': -0.6678865105768628, 'status': 'ok'},\n",
       " {'loss': -0.6678865105768628, 'status': 'ok'},\n",
       " {'loss': -0.6678865105768628, 'status': 'ok'},\n",
       " {'loss': -0.6678865105768628, 'status': 'ok'},\n",
       " {'loss': -0.6678865105768628, 'status': 'ok'},\n",
       " {'loss': -0.6678865105768628, 'status': 'ok'},\n",
       " {'loss': -0.6678865105768628, 'status': 'ok'},\n",
       " {'loss': -0.6678865105768628, 'status': 'ok'},\n",
       " {'loss': -0.6678865105768628, 'status': 'ok'},\n",
       " {'loss': -0.6678865105768628, 'status': 'ok'},\n",
       " {'loss': -0.6678865105768628, 'status': 'ok'},\n",
       " {'loss': -0.6678865105768628, 'status': 'ok'},\n",
       " {'loss': -0.6678865105768628, 'status': 'ok'},\n",
       " {'loss': -0.6678865105768628, 'status': 'ok'},\n",
       " {'loss': -0.6678865105768628, 'status': 'ok'},\n",
       " {'loss': -0.6678865105768628, 'status': 'ok'},\n",
       " {'loss': -0.6678865105768628, 'status': 'ok'},\n",
       " {'loss': -0.6678865105768628, 'status': 'ok'},\n",
       " {'loss': -0.6678865105768628, 'status': 'ok'},\n",
       " {'loss': -0.6678865105768628, 'status': 'ok'},\n",
       " {'loss': -0.6678865105768628, 'status': 'ok'},\n",
       " {'loss': -0.6678865105768628, 'status': 'ok'},\n",
       " {'loss': -0.6678865105768628, 'status': 'ok'},\n",
       " {'loss': -0.6678865105768628, 'status': 'ok'},\n",
       " {'loss': -0.6678865105768628, 'status': 'ok'},\n",
       " {'loss': -0.6678865105768628, 'status': 'ok'},\n",
       " {'loss': -0.6678865105768628, 'status': 'ok'},\n",
       " {'loss': -0.6678865105768628, 'status': 'ok'},\n",
       " {'loss': -0.6678865105768628, 'status': 'ok'},\n",
       " {'loss': -0.6678865105768628, 'status': 'ok'},\n",
       " {'loss': -0.6678865105768628, 'status': 'ok'},\n",
       " {'loss': -0.6678865105768628, 'status': 'ok'},\n",
       " {'loss': -0.6678865105768628, 'status': 'ok'},\n",
       " {'loss': -0.6678865105768628, 'status': 'ok'},\n",
       " {'loss': -0.6678865105768628, 'status': 'ok'},\n",
       " {'loss': -0.6678865105768628, 'status': 'ok'},\n",
       " {'loss': -0.6678865105768628, 'status': 'ok'},\n",
       " {'loss': -0.6678865105768628, 'status': 'ok'},\n",
       " {'loss': -0.6678865105768628, 'status': 'ok'},\n",
       " {'loss': -0.6678865105768628, 'status': 'ok'},\n",
       " {'loss': -0.6678865105768628, 'status': 'ok'},\n",
       " {'loss': -0.6678865105768628, 'status': 'ok'},\n",
       " {'loss': -0.6678865105768628, 'status': 'ok'},\n",
       " {'loss': -0.6678865105768628, 'status': 'ok'},\n",
       " {'loss': -0.6678865105768628, 'status': 'ok'},\n",
       " {'loss': -0.6678865105768628, 'status': 'ok'},\n",
       " {'loss': -0.6678865105768628, 'status': 'ok'},\n",
       " {'loss': -0.6678865105768628, 'status': 'ok'}]"
      ]
     },
     "execution_count": 14,
     "metadata": {},
     "output_type": "execute_result"
    }
   ],
   "source": [
    "trials.results"
   ]
  },
  {
   "cell_type": "code",
   "execution_count": 15,
   "id": "471091c5",
   "metadata": {},
   "outputs": [
    {
     "data": {
      "text/plain": [
       "[-0.6678865105768628,\n",
       " -0.6678865105768628,\n",
       " -0.6678865105768628,\n",
       " -0.6678865105768628,\n",
       " -0.6678865105768628,\n",
       " -0.6678865105768628,\n",
       " -0.6678865105768628,\n",
       " -0.6678865105768628,\n",
       " -0.6678865105768628,\n",
       " -0.6678865105768628,\n",
       " -0.6678865105768628,\n",
       " -0.6678865105768628,\n",
       " -0.6678865105768628,\n",
       " -0.6678865105768628,\n",
       " -0.6678865105768628,\n",
       " -0.6678865105768628,\n",
       " -0.6678865105768628,\n",
       " -0.6678865105768628,\n",
       " -0.6678865105768628,\n",
       " -0.6678865105768628,\n",
       " -0.6678865105768628,\n",
       " -0.6678865105768628,\n",
       " -0.6678865105768628,\n",
       " -0.6678865105768628,\n",
       " -0.6678865105768628,\n",
       " -0.6678865105768628,\n",
       " -0.6678865105768628,\n",
       " -0.6678865105768628,\n",
       " -0.6678865105768628,\n",
       " -0.6678865105768628,\n",
       " -0.6678865105768628,\n",
       " -0.6678865105768628,\n",
       " -0.6678865105768628,\n",
       " -0.6678865105768628,\n",
       " -0.6678865105768628,\n",
       " -0.6678865105768628,\n",
       " -0.6678865105768628,\n",
       " -0.6678865105768628,\n",
       " -0.6678865105768628,\n",
       " -0.6678865105768628,\n",
       " -0.6678865105768628,\n",
       " -0.6678865105768628,\n",
       " -0.6678865105768628,\n",
       " -0.6678865105768628,\n",
       " -0.6678865105768628,\n",
       " -0.6678865105768628,\n",
       " -0.6678865105768628,\n",
       " -0.6678865105768628,\n",
       " -0.6678865105768628,\n",
       " -0.6678865105768628]"
      ]
     },
     "execution_count": 15,
     "metadata": {},
     "output_type": "execute_result"
    }
   ],
   "source": [
    "trials.losses()"
   ]
  },
  {
   "cell_type": "code",
   "execution_count": null,
   "id": "762aaa58",
   "metadata": {},
   "outputs": [],
   "source": []
  }
 ],
 "metadata": {
  "kernelspec": {
   "display_name": "Python 3 (ipykernel)",
   "language": "python",
   "name": "python3"
  },
  "language_info": {
   "codemirror_mode": {
    "name": "ipython",
    "version": 3
   },
   "file_extension": ".py",
   "mimetype": "text/x-python",
   "name": "python",
   "nbconvert_exporter": "python",
   "pygments_lexer": "ipython3",
   "version": "3.9.7"
  }
 },
 "nbformat": 4,
 "nbformat_minor": 5
}
